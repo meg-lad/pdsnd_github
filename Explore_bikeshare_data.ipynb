{
 "cells": [
  {
   "cell_type": "markdown",
   "metadata": {},
   "source": [
    "### Explore Bike Share Data\n",
    "\n",
    "For this project, your goal is to ask and answer three questions about the available bikeshare data from Washington, Chicago, and New York.  This notebook can be submitted directly through the workspace when you are confident in your results.\n",
    "\n",
    "You will be graded against the project [Rubric](https://review.udacity.com/#!/rubrics/2508/view) by a mentor after you have submitted.  To get you started, you can use the template below, but feel free to be creative in your solutions!"
   ]
  },
  {
   "cell_type": "code",
   "execution_count": 61,
   "metadata": {},
   "outputs": [],
   "source": [
    "#import files and put in list\n",
    "ny = read.csv('new_york_city.csv')\n",
    "wash = read.csv('washington.csv')\n",
    "chi = read.csv('chicago.csv')\n",
    "df_names <- list(ny, chi, wash)"
   ]
  },
  {
   "cell_type": "code",
   "execution_count": 35,
   "metadata": {},
   "outputs": [
    {
     "name": "stdout",
     "output_type": "stream",
     "text": [
      "        X          Start.Time            End.Time Trip.Duration\n",
      "1 5688089 2017-06-11 14:55:05 2017-06-11 15:08:21           795\n",
      "2 4096714 2017-05-11 15:30:11 2017-05-11 15:41:43           692\n",
      "3 2173887 2017-03-29 13:26:26 2017-03-29 13:48:31          1325\n",
      "4 3945638 2017-05-08 19:47:18 2017-05-08 19:59:01           703\n",
      "5 6208972 2017-06-21 07:49:16 2017-06-21 07:54:46           329\n",
      "6 1285652 2017-02-22 18:55:24 2017-02-22 19:12:03           998\n",
      "            Start.Station            End.Station  User.Type Gender Birth.Year\n",
      "1 Suffolk St & Stanton St W Broadway & Spring St Subscriber   Male       1998\n",
      "2 Lexington Ave & E 63 St        1 Ave & E 78 St Subscriber   Male       1981\n",
      "3       1 Pl & Clinton St   Henry St & Degraw St Subscriber   Male       1987\n",
      "4   Barrow St & Hudson St        W 20 St & 8 Ave Subscriber Female       1986\n",
      "5         1 Ave & E 44 St        E 53 St & 3 Ave Subscriber   Male       1992\n",
      "6     State St & Smith St    Bond St & Fulton St Subscriber   Male       1986\n",
      "        X          Start.Time            End.Time Trip.Duration\n",
      "1 1423854 2017-06-23 15:09:32 2017-06-23 15:14:53           321\n",
      "2  955915 2017-05-25 18:19:03 2017-05-25 18:45:53          1610\n",
      "3    9031 2017-01-04 08:27:49 2017-01-04 08:34:45           416\n",
      "4  304487 2017-03-06 13:49:38 2017-03-06 13:55:28           350\n",
      "5   45207 2017-01-17 14:53:07 2017-01-17 15:02:01           534\n",
      "6 1473887 2017-06-26 09:01:20 2017-06-26 09:11:06           586\n",
      "                  Start.Station                  End.Station  User.Type Gender\n",
      "1          Wood St & Hubbard St      Damen Ave & Chicago Ave Subscriber   Male\n",
      "2           Theater on the Lake Sheffield Ave & Waveland Ave Subscriber Female\n",
      "3            May St & Taylor St          Wood St & Taylor St Subscriber   Male\n",
      "4 Christiana Ave & Lawrence Ave St. Louis Ave & Balmoral Ave Subscriber   Male\n",
      "5        Clark St & Randolph St Desplaines St & Jackson Blvd Subscriber   Male\n",
      "6  Clinton St & Washington Blvd         Canal St & Taylor St Subscriber   Male\n",
      "  Birth.Year\n",
      "1       1992\n",
      "2       1992\n",
      "3       1981\n",
      "4       1986\n",
      "5       1975\n",
      "6       1990\n",
      "        X          Start.Time            End.Time Trip.Duration\n",
      "1 1621326 2017-06-21 08:36:34 2017-06-21 08:44:43       489.066\n",
      "2  482740 2017-03-11 10:40:00 2017-03-11 10:46:00       402.549\n",
      "3 1330037 2017-05-30 01:02:59 2017-05-30 01:13:37       637.251\n",
      "4  665458 2017-04-02 07:48:35 2017-04-02 08:19:03      1827.341\n",
      "5 1481135 2017-06-10 08:36:28 2017-06-10 09:02:17      1549.427\n",
      "6 1148202 2017-05-14 07:18:18 2017-05-14 07:24:56       398.000\n",
      "                                Start.Station\n",
      "1                        14th & Belmont St NW\n",
      "2                  Yuma St & Tenley Circle NW\n",
      "3              17th St & Massachusetts Ave NW\n",
      "4            Constitution Ave & 2nd St NW/DOL\n",
      "5 Henry Bacon Dr & Lincoln Memorial Circle NW\n",
      "6                               1st & K St SE\n",
      "                                          End.Station  User.Type\n",
      "1                                      15th & K St NW Subscriber\n",
      "2                        Connecticut Ave & Yuma St NW Subscriber\n",
      "3                                       5th & K St NW Subscriber\n",
      "4                          M St & Pennsylvania Ave NW   Customer\n",
      "5                               Maine Ave & 7th St SW Subscriber\n",
      "6 Eastern Market Metro / Pennsylvania Ave & 7th St SE Subscriber\n"
     ]
    }
   ],
   "source": [
    "#view top rows of data and see the dimensions of the data\n",
    "#taken from https://stackoverflow.com/questions/32618369/is-there-a-way-to-view-a-list\n",
    "#On 19th April 2022\n",
    "#User: giraffehere\n",
    "printList <- function(list) {\n",
    "\n",
    "  for (item in 1:length(list)) {\n",
    "\n",
    "    print(head(list[[item]]))\n",
    "\n",
    "  }\n",
    "}\n",
    "printList(df_names)"
   ]
  },
  {
   "cell_type": "code",
   "execution_count": null,
   "metadata": {},
   "outputs": [],
   "source": []
  },
  {
   "cell_type": "code",
   "execution_count": null,
   "metadata": {},
   "outputs": [],
   "source": []
  },
  {
   "cell_type": "markdown",
   "metadata": {},
   "source": [
    "### Question 1\n",
    "\n",
    "\n",
    "**What is the average travel time for different genders in New York?**"
   ]
  },
  {
   "cell_type": "code",
   "execution_count": 21,
   "metadata": {},
   "outputs": [
    {
     "data": {
      "text/html": [
       "5410"
      ],
      "text/latex": [
       "5410"
      ],
      "text/markdown": [
       "5410"
      ],
      "text/plain": [
       "[1] 5410"
      ]
     },
     "metadata": {},
     "output_type": "display_data"
    },
    {
     "data": {
      "text/plain": [
       "     Min.   1st Qu.    Median      Mean   3rd Qu.      Max.      NA's \n",
       "     61.0     368.0     610.0     903.6    1051.0 1088634.0         1 "
      ]
     },
     "metadata": {},
     "output_type": "display_data"
    },
    {
     "data": {
      "text/plain": [
       "[[1]]\n",
       "NULL\n",
       "\n",
       "$Female\n",
       "   Min. 1st Qu.  Median    Mean 3rd Qu.    Max. \n",
       "     61     400     644     876    1068   77918 \n",
       "\n",
       "$Male\n",
       "     Min.   1st Qu.    Median      Mean   3rd Qu.      Max. \n",
       "     61.0     340.0     551.0     768.9     918.0 1088634.0 \n"
      ]
     },
     "metadata": {},
     "output_type": "display_data"
    }
   ],
   "source": [
    "#Change rows with blank gender to NA\n",
    "ny_gender <- ny\n",
    "ny_gender$Gender[ny_gender$Gender == \"\"] <- NA\n",
    "sum(is.na(ny_gender$Gender))\n",
    "\n",
    "# Summary stats for time/New York data; and summary of same by gender.\n",
    "summary(ny_gender$Trip.Duration)\n",
    "tapply(ny_gender$Trip.Duration, ny_gender$Gender, summary)"
   ]
  },
  {
   "cell_type": "code",
   "execution_count": 22,
   "metadata": {},
   "outputs": [
    {
     "name": "stderr",
     "output_type": "stream",
     "text": [
      "Warning message:\n",
      "“Removed 663 rows containing non-finite values (stat_boxplot).”"
     ]
    },
    {
     "data": {
      "image/png": "[encoded data removed]",
      "text/plain": [
       "plot without title"
      ]
     },
     "metadata": {},
     "output_type": "display_data"
    }
   ],
   "source": [
    "# Box plots by gender and time duration. Removing missing gender data and removing outliers from box plots. \n",
    "# Y-scale limited to 2500 seconds and title changed\n",
    "# Title added and centred\n",
    "\n",
    "library(ggplot2)\n",
    "\n",
    "ggplot(data = subset(ny_gender, !is.na(Gender)), aes(x = Gender, y = Trip.Duration)) +\n",
    "    geom_boxplot(outlier.shape = NA) +\n",
    "    scale_y_continuous(limits = c(0, 2500)) +\n",
    "    ylab(\"Time duration (secs)\") +\n",
    "    ggtitle(\"Travel time in New York by gender\") +\n",
    "    theme(plot.title = element_text(hjust = 0.5))"
   ]
  },
  {
   "cell_type": "code",
   "execution_count": null,
   "metadata": {},
   "outputs": [],
   "source": []
  },
  {
   "cell_type": "markdown",
   "metadata": {},
   "source": [
    "** Looking at the summary, there seems to be quite a few outliers. Therefore, I removed them from the box plot. The median (644 and 551) and the mean (876 and 769) were higher for female riders in New York than male riders respectively."
   ]
  },
  {
   "cell_type": "markdown",
   "metadata": {},
   "source": [
    "### Question 2\n",
    "\n",
    "**What is the most common day of week for Bikeshare rentals in Washington?**"
   ]
  },
  {
   "cell_type": "code",
   "execution_count": 69,
   "metadata": {},
   "outputs": [
    {
     "data": {
      "text/html": [
       "<table>\n",
       "<thead><tr><th scope=col>X</th><th scope=col>Start.Time</th><th scope=col>End.Time</th><th scope=col>Trip.Duration</th><th scope=col>Start.Station</th><th scope=col>End.Station</th><th scope=col>User.Type</th><th scope=col>weekday</th></tr></thead>\n",
       "<tbody>\n",
       "\t<tr><td>1621326                                                                                        </td><td>2017-06-21 08:36:34                                                                            </td><td>2017-06-21 08:44:43                                                                            </td><td> 489.066                                                                                       </td><td><span style=white-space:pre-wrap>14th &amp; Belmont St NW                       </span>        </td><td><span style=white-space:pre-wrap>15th &amp; K St NW                                     </span></td><td>Subscriber                                                                                     </td><td>Wednesday                                                                                      </td></tr>\n",
       "\t<tr><td> 482740                                                                                        </td><td>2017-03-11 10:40:00                                                                            </td><td>2017-03-11 10:46:00                                                                            </td><td> 402.549                                                                                       </td><td><span style=white-space:pre-wrap>Yuma St &amp; Tenley Circle NW                 </span>        </td><td><span style=white-space:pre-wrap>Connecticut Ave &amp; Yuma St NW                       </span></td><td>Subscriber                                                                                     </td><td>Saturday                                                                                       </td></tr>\n",
       "\t<tr><td>1330037                                                                                        </td><td>2017-05-30 01:02:59                                                                            </td><td>2017-05-30 01:13:37                                                                            </td><td> 637.251                                                                                       </td><td><span style=white-space:pre-wrap>17th St &amp; Massachusetts Ave NW             </span>        </td><td><span style=white-space:pre-wrap>5th &amp; K St NW                                      </span></td><td>Subscriber                                                                                     </td><td><span style=white-space:pre-wrap>Tuesday  </span>                                              </td></tr>\n",
       "\t<tr><td> 665458                                                                                        </td><td>2017-04-02 07:48:35                                                                            </td><td>2017-04-02 08:19:03                                                                            </td><td>1827.341                                                                                       </td><td><span style=white-space:pre-wrap>Constitution Ave &amp; 2nd St NW/DOL           </span>        </td><td><span style=white-space:pre-wrap>M St &amp; Pennsylvania Ave NW                         </span></td><td><span style=white-space:pre-wrap>Customer  </span>                                             </td><td><span style=white-space:pre-wrap>Sunday   </span>                                              </td></tr>\n",
       "\t<tr><td>1481135                                                                                        </td><td>2017-06-10 08:36:28                                                                            </td><td>2017-06-10 09:02:17                                                                            </td><td>1549.427                                                                                       </td><td>Henry Bacon Dr &amp; Lincoln Memorial Circle NW                                                </td><td><span style=white-space:pre-wrap>Maine Ave &amp; 7th St SW                              </span></td><td>Subscriber                                                                                     </td><td>Saturday                                                                                       </td></tr>\n",
       "\t<tr><td>1148202                                                                                </td><td>2017-05-14 07:18:18                                                                    </td><td>2017-05-14 07:24:56                                                                    </td><td> 398.000                                                                               </td><td><span style=white-space:pre-wrap>1st &amp; K St SE                              </span></td><td>Eastern Market Metro / Pennsylvania Ave &amp; 7th St SE                                </td><td>Subscriber                                                                             </td><td><span style=white-space:pre-wrap>Sunday   </span>                                      </td></tr>\n",
       "</tbody>\n",
       "</table>\n"
      ],
      "text/latex": [
       "\\begin{tabular}{r|llllllll}\n",
       " X & Start.Time & End.Time & Trip.Duration & Start.Station & End.Station & User.Type & weekday\\\\\n",
       "\\hline\n",
       "\t 1621326                                               & 2017-06-21 08:36:34                                   & 2017-06-21 08:44:43                                   &  489.066                                              & 14th \\& Belmont St NW                                & 15th \\& K St NW                                      & Subscriber                                            & Wednesday                                            \\\\\n",
       "\t  482740                                               & 2017-03-11 10:40:00                                   & 2017-03-11 10:46:00                                   &  402.549                                              & Yuma St \\& Tenley Circle NW                          & Connecticut Ave \\& Yuma St NW                        & Subscriber                                            & Saturday                                             \\\\\n",
       "\t 1330037                                               & 2017-05-30 01:02:59                                   & 2017-05-30 01:13:37                                   &  637.251                                              & 17th St \\& Massachusetts Ave NW                      & 5th \\& K St NW                                       & Subscriber                                            & Tuesday                                              \\\\\n",
       "\t  665458                                               & 2017-04-02 07:48:35                                   & 2017-04-02 08:19:03                                   & 1827.341                                              & Constitution Ave \\& 2nd St NW/DOL                    & M St \\& Pennsylvania Ave NW                          & Customer                                              & Sunday                                               \\\\\n",
       "\t 1481135                                               & 2017-06-10 08:36:28                                   & 2017-06-10 09:02:17                                   & 1549.427                                              & Henry Bacon Dr \\& Lincoln Memorial Circle NW         & Maine Ave \\& 7th St SW                               & Subscriber                                            & Saturday                                             \\\\\n",
       "\t 1148202                                               & 2017-05-14 07:18:18                                   & 2017-05-14 07:24:56                                   &  398.000                                              & 1st \\& K St SE                                       & Eastern Market Metro / Pennsylvania Ave \\& 7th St SE & Subscriber                                            & Sunday                                               \\\\\n",
       "\\end{tabular}\n"
      ],
      "text/markdown": [
       "\n",
       "| X | Start.Time | End.Time | Trip.Duration | Start.Station | End.Station | User.Type | weekday |\n",
       "|---|---|---|---|---|---|---|---|\n",
       "| 1621326                                             | 2017-06-21 08:36:34                                 | 2017-06-21 08:44:43                                 |  489.066                                            | 14th & Belmont St NW                                | 15th & K St NW                                      | Subscriber                                          | Wednesday                                           |\n",
       "|  482740                                             | 2017-03-11 10:40:00                                 | 2017-03-11 10:46:00                                 |  402.549                                            | Yuma St & Tenley Circle NW                          | Connecticut Ave & Yuma St NW                        | Subscriber                                          | Saturday                                            |\n",
       "| 1330037                                             | 2017-05-30 01:02:59                                 | 2017-05-30 01:13:37                                 |  637.251                                            | 17th St & Massachusetts Ave NW                      | 5th & K St NW                                       | Subscriber                                          | Tuesday                                             |\n",
       "|  665458                                             | 2017-04-02 07:48:35                                 | 2017-04-02 08:19:03                                 | 1827.341                                            | Constitution Ave & 2nd St NW/DOL                    | M St & Pennsylvania Ave NW                          | Customer                                            | Sunday                                              |\n",
       "| 1481135                                             | 2017-06-10 08:36:28                                 | 2017-06-10 09:02:17                                 | 1549.427                                            | Henry Bacon Dr & Lincoln Memorial Circle NW         | Maine Ave & 7th St SW                               | Subscriber                                          | Saturday                                            |\n",
       "| 1148202                                             | 2017-05-14 07:18:18                                 | 2017-05-14 07:24:56                                 |  398.000                                            | 1st & K St SE                                       | Eastern Market Metro / Pennsylvania Ave & 7th St SE | Subscriber                                          | Sunday                                              |\n",
       "\n"
      ],
      "text/plain": [
       "  X       Start.Time          End.Time            Trip.Duration\n",
       "1 1621326 2017-06-21 08:36:34 2017-06-21 08:44:43  489.066     \n",
       "2  482740 2017-03-11 10:40:00 2017-03-11 10:46:00  402.549     \n",
       "3 1330037 2017-05-30 01:02:59 2017-05-30 01:13:37  637.251     \n",
       "4  665458 2017-04-02 07:48:35 2017-04-02 08:19:03 1827.341     \n",
       "5 1481135 2017-06-10 08:36:28 2017-06-10 09:02:17 1549.427     \n",
       "6 1148202 2017-05-14 07:18:18 2017-05-14 07:24:56  398.000     \n",
       "  Start.Station                              \n",
       "1 14th & Belmont St NW                       \n",
       "2 Yuma St & Tenley Circle NW                 \n",
       "3 17th St & Massachusetts Ave NW             \n",
       "4 Constitution Ave & 2nd St NW/DOL           \n",
       "5 Henry Bacon Dr & Lincoln Memorial Circle NW\n",
       "6 1st & K St SE                              \n",
       "  End.Station                                         User.Type  weekday  \n",
       "1 15th & K St NW                                      Subscriber Wednesday\n",
       "2 Connecticut Ave & Yuma St NW                        Subscriber Saturday \n",
       "3 5th & K St NW                                       Subscriber Tuesday  \n",
       "4 M St & Pennsylvania Ave NW                          Customer   Sunday   \n",
       "5 Maine Ave & 7th St SW                               Subscriber Saturday \n",
       "6 Eastern Market Metro / Pennsylvania Ave & 7th St SE Subscriber Sunday   "
      ]
     },
     "metadata": {},
     "output_type": "display_data"
    }
   ],
   "source": [
    "#Add weekday values to tables\n",
    "wash_day <- wash\n",
    "wash_day$weekday <- weekdays(as.Date(wash_day$Start.Time))"
   ]
  },
  {
   "cell_type": "code",
   "execution_count": 70,
   "metadata": {},
   "outputs": [
    {
     "data": {
      "text/html": [
       "<table>\n",
       "<thead><tr><th scope=col>weekday</th><th scope=col>n</th></tr></thead>\n",
       "<tbody>\n",
       "\t<tr><td>Sunday   </td><td>11566    </td></tr>\n",
       "\t<tr><td>Monday   </td><td>11721    </td></tr>\n",
       "\t<tr><td>Tuesday  </td><td>13288    </td></tr>\n",
       "\t<tr><td>Wednesday</td><td>14212    </td></tr>\n",
       "\t<tr><td>Thursday </td><td>13204    </td></tr>\n",
       "\t<tr><td>Friday   </td><td>12926    </td></tr>\n",
       "\t<tr><td>Saturday </td><td>12133    </td></tr>\n",
       "\t<tr><td>NA       </td><td>    1    </td></tr>\n",
       "</tbody>\n",
       "</table>\n"
      ],
      "text/latex": [
       "\\begin{tabular}{r|ll}\n",
       " weekday & n\\\\\n",
       "\\hline\n",
       "\t Sunday    & 11566    \\\\\n",
       "\t Monday    & 11721    \\\\\n",
       "\t Tuesday   & 13288    \\\\\n",
       "\t Wednesday & 14212    \\\\\n",
       "\t Thursday  & 13204    \\\\\n",
       "\t Friday    & 12926    \\\\\n",
       "\t Saturday  & 12133    \\\\\n",
       "\t NA        &     1    \\\\\n",
       "\\end{tabular}\n"
      ],
      "text/markdown": [
       "\n",
       "| weekday | n |\n",
       "|---|---|\n",
       "| Sunday    | 11566     |\n",
       "| Monday    | 11721     |\n",
       "| Tuesday   | 13288     |\n",
       "| Wednesday | 14212     |\n",
       "| Thursday  | 13204     |\n",
       "| Friday    | 12926     |\n",
       "| Saturday  | 12133     |\n",
       "| NA        |     1     |\n",
       "\n"
      ],
      "text/plain": [
       "  weekday   n    \n",
       "1 Sunday    11566\n",
       "2 Monday    11721\n",
       "3 Tuesday   13288\n",
       "4 Wednesday 14212\n",
       "5 Thursday  13204\n",
       "6 Friday    12926\n",
       "7 Saturday  12133\n",
       "8 NA            1"
      ]
     },
     "metadata": {},
     "output_type": "display_data"
    }
   ],
   "source": [
    "library(dplyr)\n",
    "\n",
    "# Order days in week so they are in weekday order\n",
    "weekday_order <- c(\"Sunday\", \"Monday\", \"Tuesday\", \"Wednesday\", \"Thursday\",\n",
    "                                           \"Friday\", \"Saturday\")\n",
    "wash_day$weekday <- ordered(wash_day$weekday, levels = weekday_order)\n",
    "\n",
    "#count how many rentals occur per weekday - these numbers are VERY different from the counts on the downloaded datasets\n",
    "wash_days <- wash_day %>% count(weekday)\n",
    "\n",
    "wash_days"
   ]
  },
  {
   "cell_type": "code",
   "execution_count": 71,
   "metadata": {},
   "outputs": [
    {
     "data": {
      "text/html": [
       "1"
      ],
      "text/latex": [
       "1"
      ],
      "text/markdown": [
       "1"
      ],
      "text/plain": [
       "[1] 1"
      ]
     },
     "metadata": {},
     "output_type": "display_data"
    },
    {
     "data": {
      "image/png": "[encoded data removed]",
      "text/plain": [
       "plot without title"
      ]
     },
     "metadata": {},
     "output_type": "display_data"
    }
   ],
   "source": [
    "#Change rows with blank day to NA \n",
    "wash_day$weekday[wash_day$weekday == \"\"] <- NA\n",
    "sum(is.na(wash_day$weekday))\n",
    "\n",
    "# Column graph count by day. Removed missing day data\n",
    "# Y-scale limited to 15,000 and labels added to title, x-axis, and y-axis\n",
    "#Titled centred and split across two lines\n",
    "library(ggplot2)\n",
    "p1 <- ggplot(data= subset(wash_day, !is.na(weekday)), aes(x = weekday, fill=weekday)) + geom_bar() + ylim(0, 15000) + \n",
    "  labs(title=\"Bikeshare hires by day of week,\\n Washington\", x=\"Weekday\", y = \"Count\") + \n",
    "  theme(plot.title = element_text(hjust = 0.5), \n",
    "        axis.text.x = element_text(angle = 90, vjust = 0.5, hjust=1), \n",
    "        legend.position=\"none\")\n",
    "\n",
    "p1"
   ]
  },
  {
   "cell_type": "markdown",
   "metadata": {},
   "source": [
    "**Summary of your question 2 results goes here.**\n",
    "After downloading the files and creating the code on my machine, the counts are vastly different than when I run it here. When looking at the Chicago data, there are 8630 rows within this workspace but the file for download contains 300,000 rows. My comments below are using the data for download on my machine.\n",
    "\n",
    "           New York   Chicago    Washington\n",
    "Weekday     Count\n",
    "Sunday      36151     38775       39576\n",
    "Monday      41923     44881       39930\n",
    "Tuesday     43752     45912       44519\n",
    "Wednesday   52087     42530       48156\n",
    "Thursday    47497     43095       43946\n",
    "Friday      44664     43922       43280\n",
    "Saturday    33926     40885       40593\n",
    "\n",
    "The most common day to hire a bike for both New York and Washington is Wednesday, and Tuesday for Chicago. The weekends have the lowest counts of bike hires."
   ]
  },
  {
   "cell_type": "markdown",
   "metadata": {},
   "source": [
    "### Question 3\n",
    "\n",
    "**What are the counts of each user type?**"
   ]
  },
  {
   "cell_type": "code",
   "execution_count": 53,
   "metadata": {},
   "outputs": [
    {
     "data": {
      "text/html": [
       "<ol>\n",
       "\t<li><dl class=dl-horizontal>\n",
       "\t<dt>1</dt>\n",
       "\t\t<dd>119</dd>\n",
       "\t<dt>Customer</dt>\n",
       "\t\t<dd>5558</dd>\n",
       "\t<dt>Subscriber</dt>\n",
       "\t\t<dd>49093</dd>\n",
       "</dl>\n",
       "</li>\n",
       "\t<li><dl class=dl-horizontal>\n",
       "\t<dt>1</dt>\n",
       "\t\t<dd>1</dd>\n",
       "\t<dt>Customer</dt>\n",
       "\t\t<dd>1746</dd>\n",
       "\t<dt>Subscriber</dt>\n",
       "\t\t<dd>6883</dd>\n",
       "</dl>\n",
       "</li>\n",
       "\t<li><dl class=dl-horizontal>\n",
       "\t<dt>1</dt>\n",
       "\t\t<dd>1</dd>\n",
       "\t<dt>Customer</dt>\n",
       "\t\t<dd>23450</dd>\n",
       "\t<dt>Subscriber</dt>\n",
       "\t\t<dd>65600</dd>\n",
       "</dl>\n",
       "</li>\n",
       "</ol>\n"
      ],
      "text/latex": [
       "\\begin{enumerate}\n",
       "\\item \\begin{description*}\n",
       "\\item[1] 119\n",
       "\\item[Customer] 5558\n",
       "\\item[Subscriber] 49093\n",
       "\\end{description*}\n",
       "\n",
       "\\item \\begin{description*}\n",
       "\\item[1] 1\n",
       "\\item[Customer] 1746\n",
       "\\item[Subscriber] 6883\n",
       "\\end{description*}\n",
       "\n",
       "\\item \\begin{description*}\n",
       "\\item[1] 1\n",
       "\\item[Customer] 23450\n",
       "\\item[Subscriber] 65600\n",
       "\\end{description*}\n",
       "\n",
       "\\end{enumerate}\n"
      ],
      "text/markdown": [
       "1. 1\n",
       ":   119Customer\n",
       ":   5558Subscriber\n",
       ":   49093\n",
       "\n",
       "\n",
       "2. 1\n",
       ":   1Customer\n",
       ":   1746Subscriber\n",
       ":   6883\n",
       "\n",
       "\n",
       "3. 1\n",
       ":   1Customer\n",
       ":   23450Subscriber\n",
       ":   65600\n",
       "\n",
       "\n",
       "\n",
       "\n"
      ],
      "text/plain": [
       "[[1]]\n",
       "             Customer Subscriber \n",
       "       119       5558      49093 \n",
       "\n",
       "[[2]]\n",
       "             Customer Subscriber \n",
       "         1       1746       6883 \n",
       "\n",
       "[[3]]\n",
       "             Customer Subscriber \n",
       "         1      23450      65600 \n"
      ]
     },
     "metadata": {},
     "output_type": "display_data"
    },
    {
     "data": {
      "text/html": [
       "0"
      ],
      "text/latex": [
       "0"
      ],
      "text/markdown": [
       "0"
      ],
      "text/plain": [
       "[1] 0"
      ]
     },
     "metadata": {},
     "output_type": "display_data"
    },
    {
     "data": {
      "text/html": [
       "<dl class=dl-horizontal>\n",
       "\t<dt>1</dt>\n",
       "\t\t<dd>119</dd>\n",
       "\t<dt>Customer</dt>\n",
       "\t\t<dd>5558</dd>\n",
       "\t<dt>Subscriber</dt>\n",
       "\t\t<dd>49093</dd>\n",
       "</dl>\n"
      ],
      "text/latex": [
       "\\begin{description*}\n",
       "\\item[1] 119\n",
       "\\item[Customer] 5558\n",
       "\\item[Subscriber] 49093\n",
       "\\end{description*}\n"
      ],
      "text/markdown": [
       "1\n",
       ":   119Customer\n",
       ":   5558Subscriber\n",
       ":   49093\n",
       "\n"
      ],
      "text/plain": [
       "             Customer Subscriber \n",
       "       119       5558      49093 "
      ]
     },
     "metadata": {},
     "output_type": "display_data"
    }
   ],
   "source": [
    "library(dplyr)\n",
    "\n",
    "#Count the different user types per city\n",
    "df_names <- list(ny$User.Type, chi$User.Type, wash$User.Type)\n",
    "user_count <- lapply(df_names, function(x) summary(x))\n",
    "user_count\n",
    "\n",
    "#Each city has a user type '1', which is blank. Change blank to NA\n",
    "ny_user <- ny\n",
    "chi_user <- chi\n",
    "wash_user <- wash\n",
    "\n",
    "                     \n",
    "df_user <- list(ny_user$User.Type, chi_user$User.Type, wash_user$User.Type)\n",
    "na_change <- lapply(df_user, function(x) replace(x, x ==0, NA))\n",
    "sum(is.na(ny_user$User.Type))\n",
    "summary(ny_user$User.Type)"
   ]
  },
  {
   "cell_type": "code",
   "execution_count": 83,
   "metadata": {},
   "outputs": [
    {
     "data": {
      "text/html": [
       "<ol>\n",
       "\t<li><dl class=dl-horizontal>\n",
       "\t<dt>1</dt>\n",
       "\t\t<dd>119</dd>\n",
       "\t<dt>Customer</dt>\n",
       "\t\t<dd>5558</dd>\n",
       "\t<dt>Subscriber</dt>\n",
       "\t\t<dd>49093</dd>\n",
       "</dl>\n",
       "</li>\n",
       "\t<li><dl class=dl-horizontal>\n",
       "\t<dt>1</dt>\n",
       "\t\t<dd>1</dd>\n",
       "\t<dt>Customer</dt>\n",
       "\t\t<dd>1746</dd>\n",
       "\t<dt>Subscriber</dt>\n",
       "\t\t<dd>6883</dd>\n",
       "</dl>\n",
       "</li>\n",
       "\t<li><dl class=dl-horizontal>\n",
       "\t<dt>1</dt>\n",
       "\t\t<dd>1</dd>\n",
       "\t<dt>Customer</dt>\n",
       "\t\t<dd>23450</dd>\n",
       "\t<dt>Subscriber</dt>\n",
       "\t\t<dd>65600</dd>\n",
       "</dl>\n",
       "</li>\n",
       "</ol>\n"
      ],
      "text/latex": [
       "\\begin{enumerate}\n",
       "\\item \\begin{description*}\n",
       "\\item[1] 119\n",
       "\\item[Customer] 5558\n",
       "\\item[Subscriber] 49093\n",
       "\\end{description*}\n",
       "\n",
       "\\item \\begin{description*}\n",
       "\\item[1] 1\n",
       "\\item[Customer] 1746\n",
       "\\item[Subscriber] 6883\n",
       "\\end{description*}\n",
       "\n",
       "\\item \\begin{description*}\n",
       "\\item[1] 1\n",
       "\\item[Customer] 23450\n",
       "\\item[Subscriber] 65600\n",
       "\\end{description*}\n",
       "\n",
       "\\end{enumerate}\n"
      ],
      "text/markdown": [
       "1. 1\n",
       ":   119Customer\n",
       ":   5558Subscriber\n",
       ":   49093\n",
       "\n",
       "\n",
       "2. 1\n",
       ":   1Customer\n",
       ":   1746Subscriber\n",
       ":   6883\n",
       "\n",
       "\n",
       "3. 1\n",
       ":   1Customer\n",
       ":   23450Subscriber\n",
       ":   65600\n",
       "\n",
       "\n",
       "\n",
       "\n"
      ],
      "text/plain": [
       "[[1]]\n",
       "             Customer Subscriber \n",
       "       119       5558      49093 \n",
       "\n",
       "[[2]]\n",
       "             Customer Subscriber \n",
       "         1       1746       6883 \n",
       "\n",
       "[[3]]\n",
       "             Customer Subscriber \n",
       "         1      23450      65600 \n"
      ]
     },
     "metadata": {},
     "output_type": "display_data"
    },
    {
     "data": {
      "text/html": [
       "119"
      ],
      "text/latex": [
       "119"
      ],
      "text/markdown": [
       "119"
      ],
      "text/plain": [
       "[1] 119"
      ]
     },
     "metadata": {},
     "output_type": "display_data"
    },
    {
     "data": {
      "text/html": [
       "1"
      ],
      "text/latex": [
       "1"
      ],
      "text/markdown": [
       "1"
      ],
      "text/plain": [
       "[1] 1"
      ]
     },
     "metadata": {},
     "output_type": "display_data"
    },
    {
     "data": {
      "text/html": [
       "1"
      ],
      "text/latex": [
       "1"
      ],
      "text/markdown": [
       "1"
      ],
      "text/plain": [
       "[1] 1"
      ]
     },
     "metadata": {},
     "output_type": "display_data"
    }
   ],
   "source": [
    "library(dplyr)\n",
    "\n",
    "#Count the different user types per city\n",
    "df_names <- list(ny$User.Type, chi$User.Type, wash$User.Type)\n",
    "user_count <- lapply(df_names, function(x) summary(x))\n",
    "user_count\n",
    "\n",
    "#Each city has a user type '1', which is blank. Change blank to NA\n",
    "ny_user <- ny\n",
    "chi_user <- chi\n",
    "wash_user <- wash\n",
    "                     \n",
    "ny_user$User.Type[ny_user$User.Type == \"\"] <- NA\n",
    "sum(is.na(ny_user$User.Type))\n",
    "\n",
    "chi_user$User.Type[chi_user$User.Type == \"\"] <- NA\n",
    "sum(is.na(chi_user$User.Type))\n",
    "\n",
    "wash_user$User.Type[wash_user$User.Type == \"\"] <- NA\n",
    "sum(is.na(wash_user$User.Type))\n",
    "                     \n",
    "#add three datasets into one, removing variables gender and birth year from NY and CHI.\n",
    "ny_user$city <- \"New York\"  \n",
    "ny_user <- subset(ny_user, select=-c(Gender, Birth.Year))\n",
    "chi_user$city <- \"Chicago\"\n",
    "chi_user <- subset(chi_user, select=-c(Gender, Birth.Year))\n",
    "wash_user$city <- \"Washington\"\n",
    "                                     \n",
    "all_cities <- rbind(ny_user, chi_user, wash_user)\n"
   ]
  },
  {
   "cell_type": "code",
   "execution_count": 82,
   "metadata": {},
   "outputs": [
    {
     "data": {
      "image/png": "[encoded data removed]",
      "text/plain": [
       "plot without title"
      ]
     },
     "metadata": {},
     "output_type": "display_data"
    }
   ],
   "source": [
    "# Stacked column graphs of user type by city\n",
    "library(ggplot2)\n",
    "\n",
    "p2 <- ggplot(data=subset(all_cities, !is.na(User.Type)), aes(x = User.Type, fill=city)) + geom_bar() + \n",
    "  labs(title=\"Count of user type by city\", x=\"User type\", y = \"Count\") + \n",
    "  theme(plot.title = element_text(hjust = 0.5), \n",
    "        axis.text.x = element_text(angle = 90, vjust = 0.5, hjust=1))\n",
    "\n",
    "p2"
   ]
  },
  {
   "cell_type": "markdown",
   "metadata": {},
   "source": [
    "**Summary of your question 3 results goes here.**\n",
    "Washington has the greatest count of users, both customers and subscribers with Chicago having the fewest. All three cities have a greater number of subscribers hiring bikes than customers."
   ]
  },
  {
   "cell_type": "markdown",
   "metadata": {},
   "source": [
    "\n",
    "## Finishing Up\n",
    "\n",
    "> Congratulations!  You have reached the end of the Explore Bikeshare Data Project. You should be very proud of all you have accomplished!\n",
    "\n",
    "> **Tip**: Once you are satisfied with your work here, check over your report to make sure that it is satisfies all the areas of the [rubric](https://review.udacity.com/#!/rubrics/2508/view). \n",
    "\n",
    "\n",
    "## Directions to Submit\n",
    "\n",
    "> Before you submit your project, you need to create a .html or .pdf version of this notebook in the workspace here. To do that, run the code cell below. If it worked correctly, you should get a return code of 0, and you should see the generated .html file in the workspace directory (click on the orange Jupyter icon in the upper left).\n",
    "\n",
    "> Alternatively, you can download this report as .html via the **File** > **Download as** submenu, and then manually upload it into the workspace directory by clicking on the orange Jupyter icon in the upper left, then using the Upload button.\n",
    "\n",
    "> Once you've done this, you can submit your project by clicking on the \"Submit Project\" button in the lower right here. This will create and submit a zip file with this .ipynb doc and the .html or .pdf version you created. Congratulations!"
   ]
  },
  {
   "cell_type": "code",
   "execution_count": null,
   "metadata": {},
   "outputs": [],
   "source": [
    "system('python -m nbconvert Explore_bikeshare_data.ipynb')"
   ]
  }
 ],
 "metadata": {
  "kernelspec": {
   "display_name": "R",
   "language": "R",
   "name": "ir"
  },
  "language_info": {
   "codemirror_mode": "r",
   "file_extension": ".r",
   "mimetype": "text/x-r-source",
   "name": "R",
   "pygments_lexer": "r",
   "version": "3.5.1"
  }
 },
 "nbformat": 4,
 "nbformat_minor": 2
}
